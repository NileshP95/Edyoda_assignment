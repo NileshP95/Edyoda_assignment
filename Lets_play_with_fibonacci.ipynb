{
 "cells": [
  {
   "cell_type": "markdown",
   "id": "ada5de5b",
   "metadata": {},
   "source": [
    "#  fibonacci series between 0 to 50."
   ]
  },
  {
   "cell_type": "code",
   "execution_count": 8,
   "id": "abaf3e9f",
   "metadata": {},
   "outputs": [
    {
     "name": "stdout",
     "output_type": "stream",
     "text": [
      "[0, 1, 1, 2, 3, 5, 8, 13, 21, 34, 55, 89]\n"
     ]
    }
   ],
   "source": [
    "a=0\n",
    "b=1\n",
    "f=[a,b]\n",
    "\n",
    "for i in range(0,10):\n",
    "    c=a+b\n",
    "    f.append(c)\n",
    "    a=b\n",
    "    b=c\n",
    "print(f)"
   ]
  }
 ],
 "metadata": {
  "kernelspec": {
   "display_name": "Python 3 (ipykernel)",
   "language": "python",
   "name": "python3"
  },
  "language_info": {
   "codemirror_mode": {
    "name": "ipython",
    "version": 3
   },
   "file_extension": ".py",
   "mimetype": "text/x-python",
   "name": "python",
   "nbconvert_exporter": "python",
   "pygments_lexer": "ipython3",
   "version": "3.8.10"
  }
 },
 "nbformat": 4,
 "nbformat_minor": 5
}
